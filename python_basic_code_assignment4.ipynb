{
 "cells": [
  {
   "cell_type": "code",
   "execution_count": 15,
   "id": "25d14d9a",
   "metadata": {},
   "outputs": [
    {
     "name": "stdout",
     "output_type": "stream",
     "text": [
      "enter the no:5\n",
      "120\n"
     ]
    }
   ],
   "source": [
    "###(1)Write a Python Program to Find the Factorial of a Number.\n",
    "n=int(input(\"enter the no:\"))\n",
    "fac=1\n",
    "i = n\n",
    "while i > 0 :\n",
    "    fac = fac * i\n",
    "    i = i - 1\n",
    "print(fac)"
   ]
  },
  {
   "cell_type": "code",
   "execution_count": 7,
   "id": "1a2f4b82",
   "metadata": {},
   "outputs": [
    {
     "name": "stdout",
     "output_type": "stream",
     "text": [
      "enter the no:7\n",
      "7\n",
      "14\n",
      "21\n",
      "28\n",
      "35\n",
      "42\n",
      "49\n",
      "56\n",
      "63\n",
      "70\n"
     ]
    }
   ],
   "source": [
    "###(2)Write a Python Program to Display the multiplication Table.\n",
    "x=int(input(\"enter the no:\"))\n",
    "for i in range(1,11):\n",
    "    prod = x * i\n",
    "    print(prod)"
   ]
  },
  {
   "cell_type": "code",
   "execution_count": 9,
   "id": "7a42d74c",
   "metadata": {},
   "outputs": [
    {
     "name": "stdout",
     "output_type": "stream",
     "text": [
      "enter how many term we want:10\n",
      "0\n",
      "1\n",
      "1\n",
      "2\n",
      "3\n",
      "5\n",
      "8\n",
      "13\n",
      "21\n",
      "34\n"
     ]
    }
   ],
   "source": [
    "###(3)Write a Python Program to Print the Fibonacci sequence.\n",
    "n=int(input(\"enter how many term we want:\"))\n",
    "x=0\n",
    "y=1\n",
    "print(x)\n",
    "print(y)\n",
    "z=0\n",
    "for i in range(2,n):\n",
    "    z = x + y\n",
    "    print(z)\n",
    "    x = y\n",
    "    y = z\n",
    "    "
   ]
  },
  {
   "cell_type": "code",
   "execution_count": 15,
   "id": "9adc1936",
   "metadata": {},
   "outputs": [
    {
     "name": "stdout",
     "output_type": "stream",
     "text": [
      "enter upto which no we want to see the sequence:10\n",
      "0\n",
      "1\n",
      "1\n",
      "2\n",
      "3\n",
      "5\n",
      "8\n"
     ]
    }
   ],
   "source": [
    "###(3)Write a Python Program to Print the Fibonacci sequence?\n",
    "n = int(input(\"enter upto which no we want to see the sequence:\"))\n",
    "x = 0\n",
    "y = 1\n",
    "z = 0\n",
    "while z <= n :\n",
    "    print(z)\n",
    "    x = y\n",
    "    y = z\n",
    "    z = x + y"
   ]
  },
  {
   "cell_type": "code",
   "execution_count": 8,
   "id": "0ddc1305",
   "metadata": {},
   "outputs": [
    {
     "name": "stdout",
     "output_type": "stream",
     "text": [
      "enter the no:372\n",
      "length of number is 3\n",
      "Sum: 378\n",
      "Number is not an armstrong number\n"
     ]
    }
   ],
   "source": [
    "###(4)Write a Python Program to Check Armstrong Number.\n",
    "x = input(\"enter the no:\")\n",
    "count = 0\n",
    "i = int(x)\n",
    "while i > 0:\n",
    "    count = count + 1\n",
    "    i = i // 10\n",
    "print(\"length of number is\",count)\n",
    "sum = 0\n",
    "for j in x:\n",
    "    if int(j) >= 0:\n",
    "        sum = sum + int(j)**count\n",
    "print(\"Sum:\",sum)\n",
    "if sum == int(x):\n",
    "    print(\"Number is an armstrong number\")\n",
    "else: print(\"Number is not an armstrong number\")"
   ]
  },
  {
   "cell_type": "code",
   "execution_count": 16,
   "id": "1a7741ed",
   "metadata": {},
   "outputs": [
    {
     "name": "stdout",
     "output_type": "stream",
     "text": [
      "enter the starting point:100\n",
      "enter the ending point:500\n",
      "153\n",
      "370\n",
      "371\n",
      "407\n"
     ]
    }
   ],
   "source": [
    "###(5)Write a Python Program to Find Armstrong Number in an Interval.\n",
    "x = int(input(\"enter the starting point:\"))\n",
    "y = int(input(\"enter the ending point:\"))\n",
    "for i in range(x,y+1):\n",
    "    count = 0\n",
    "    n = i\n",
    "    while n > 0:\n",
    "        count = count + 1\n",
    "        n = n // 10\n",
    "    sum = 0\n",
    "    z = i\n",
    "    for j in str(z):\n",
    "        if int(j) >= 0:\n",
    "            sum = sum + int(j)**count\n",
    "    if sum == i:\n",
    "        print(i)"
   ]
  },
  {
   "cell_type": "code",
   "execution_count": 14,
   "id": "1f5c3e4b",
   "metadata": {},
   "outputs": [
    {
     "name": "stdout",
     "output_type": "stream",
     "text": [
      "enter the starting point:1\n",
      "enter the ending point:10\n",
      "55\n"
     ]
    }
   ],
   "source": [
    "###(6)Write a Python Program to Find the Sum of Natural Numbers?\n",
    "x = int(input(\"enter the starting point:\"))\n",
    "y = int(input(\"enter the ending point:\"))\n",
    "if x < 0 or y <0:\n",
    "    print(\"please enter positive number\")\n",
    "else:\n",
    "    sum = 0\n",
    "    for i in range(x,y+1):\n",
    "        sum = sum + i\n",
    "    print(sum)"
   ]
  },
  {
   "cell_type": "code",
   "execution_count": null,
   "id": "60f415c6",
   "metadata": {},
   "outputs": [],
   "source": []
  },
  {
   "cell_type": "code",
   "execution_count": null,
   "id": "f699c501",
   "metadata": {},
   "outputs": [],
   "source": []
  },
  {
   "cell_type": "code",
   "execution_count": null,
   "id": "4c6a767f",
   "metadata": {},
   "outputs": [],
   "source": []
  },
  {
   "cell_type": "code",
   "execution_count": null,
   "id": "d0f90fb3",
   "metadata": {},
   "outputs": [],
   "source": []
  }
 ],
 "metadata": {
  "kernelspec": {
   "display_name": "Python 3",
   "language": "python",
   "name": "python3"
  },
  "language_info": {
   "codemirror_mode": {
    "name": "ipython",
    "version": 3
   },
   "file_extension": ".py",
   "mimetype": "text/x-python",
   "name": "python",
   "nbconvert_exporter": "python",
   "pygments_lexer": "ipython3",
   "version": "3.8.8"
  }
 },
 "nbformat": 4,
 "nbformat_minor": 5
}
